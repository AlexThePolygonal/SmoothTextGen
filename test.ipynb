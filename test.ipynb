{
  "cells": [
    {
      "cell_type": "code",
      "execution_count": 1,
      "metadata": {
        "colab": {
          "base_uri": "https://localhost:8080/"
        },
        "id": "OB7b0qcacKNe",
        "outputId": "66049511-84f4-41a1-8af1-1655b9f294b4"
      },
      "outputs": [
        {
          "name": "stdout",
          "output_type": "stream",
          "text": [
            "env: CUBLAS_WORKSPACE_CONFIG=:4096:8\n"
          ]
        },
        {
          "data": {
            "text/plain": [
              "device(type='cpu')"
            ]
          },
          "execution_count": 1,
          "metadata": {},
          "output_type": "execute_result"
        }
      ],
      "source": [
        "%env CUBLAS_WORKSPACE_CONFIG=:4096:8\n",
        "import torch\n",
        "import torch.nn as nn\n",
        "import torch.nn.functional as F\n",
        "import numpy as np\n",
        "device = torch.device('cuda' if torch.cuda.is_available() else 'cpu')\n",
        "device"
      ]
    },
    {
      "cell_type": "code",
      "execution_count": 2,
      "metadata": {
        "id": "D5VbMuEFcKNg"
      },
      "outputs": [],
      "source": [
        "import smoothllm as s\n",
        "from gptneo_decompose import GradmodGPTNeoAttn, UngradmodGPTNeoAttn"
      ]
    },
    {
      "cell_type": "code",
      "execution_count": 3,
      "metadata": {
        "id": "Gt0FTaEvcKNh"
      },
      "outputs": [],
      "source": [
        "s.set_determininsm(42)"
      ]
    },
    {
      "cell_type": "code",
      "execution_count": 4,
      "metadata": {
        "id": "DNjyIF8UcKNh"
      },
      "outputs": [],
      "source": [
        "from transformers import AutoModelForCausalLM, AutoTokenizer, GenerationConfig"
      ]
    },
    {
      "cell_type": "code",
      "execution_count": 5,
      "metadata": {
        "colab": {
          "base_uri": "https://localhost:8080/"
        },
        "id": "n3cfE1RecKNi",
        "outputId": "e789474d-37c9-4bee-93e8-c7bfe8c4d7fe"
      },
      "outputs": [
        {
          "name": "stderr",
          "output_type": "stream",
          "text": [
            "/home/alexthepolygonal/.local/lib/python3.10/site-packages/torch/cuda/__init__.py:611: UserWarning: Can't initialize NVML\n",
            "  warnings.warn(\"Can't initialize NVML\")\n",
            "/home/alexthepolygonal/.local/lib/python3.10/site-packages/torch/_utils.py:831: UserWarning: TypedStorage is deprecated. It will be removed in the future and UntypedStorage will be the only storage class. This should only matter to you if you are using storages directly.  To access UntypedStorage directly, use tensor.untyped_storage() instead of tensor.storage()\n",
            "  return self.fget.__get__(instance, owner)()\n"
          ]
        }
      ],
      "source": [
        "base_model = AutoModelForCausalLM.from_pretrained('roneneldan/TinyStories-33M').to(device) # roneneldan\n",
        "tokenizer = AutoTokenizer.from_pretrained(\"EleutherAI/gpt-neo-125M\")"
      ]
    },
    {
      "cell_type": "code",
      "execution_count": 6,
      "metadata": {
        "id": "RevxtV0pcKNj"
      },
      "outputs": [],
      "source": [
        "model = s.SmoothModelForCausalLM(\n",
        "    base_model,\n",
        "    base_model.get_input_embeddings().weight,\n",
        "    GradmodGPTNeoAttn,\n",
        "    UngradmodGPTNeoAttn\n",
        ")\n",
        "\n",
        "for param in model.parameters():\n",
        "    param.requires_grad_(False)"
      ]
    },
    {
      "cell_type": "code",
      "execution_count": 7,
      "metadata": {
        "id": "Jyqma8nZcKNj"
      },
      "outputs": [],
      "source": [
        "torch.set_printoptions(precision=6)"
      ]
    },
    {
      "cell_type": "code",
      "execution_count": 8,
      "metadata": {
        "colab": {
          "base_uri": "https://localhost:8080/"
        },
        "id": "AgMovWdNckB-",
        "outputId": "b7bd7913-9f8b-4a7d-f91e-5a815d71dcfa"
      },
      "outputs": [
        {
          "name": "stdout",
          "output_type": "stream",
          "text": [
            "Defaulting to user installation because normal site-packages is not writeable\n",
            "Requirement already satisfied: peft in /home/alexthepolygonal/.local/lib/python3.10/site-packages (0.8.2)\n",
            "Requirement already satisfied: numpy>=1.17 in /home/alexthepolygonal/.local/lib/python3.10/site-packages (from peft) (1.26.4)\n",
            "Requirement already satisfied: packaging>=20.0 in /home/alexthepolygonal/.local/lib/python3.10/site-packages (from peft) (23.1)\n",
            "Requirement already satisfied: psutil in /home/alexthepolygonal/.local/lib/python3.10/site-packages (from peft) (5.9.5)\n",
            "Requirement already satisfied: pyyaml in /home/alexthepolygonal/.local/lib/python3.10/site-packages (from peft) (6.0.1)\n",
            "Requirement already satisfied: torch>=1.13.0 in /home/alexthepolygonal/.local/lib/python3.10/site-packages (from peft) (2.1.1)\n",
            "Requirement already satisfied: transformers in /home/alexthepolygonal/.local/lib/python3.10/site-packages (from peft) (4.43.2)\n",
            "Requirement already satisfied: tqdm in /usr/lib/python3/dist-packages (from peft) (4.57.0)\n",
            "Requirement already satisfied: accelerate>=0.21.0 in /home/alexthepolygonal/.local/lib/python3.10/site-packages (from peft) (0.27.2)\n",
            "Requirement already satisfied: safetensors in /home/alexthepolygonal/.local/lib/python3.10/site-packages (from peft) (0.4.3)\n",
            "Requirement already satisfied: huggingface-hub>=0.17.0 in /home/alexthepolygonal/.local/lib/python3.10/site-packages (from peft) (0.23.3)\n",
            "Requirement already satisfied: filelock in /home/alexthepolygonal/.local/lib/python3.10/site-packages (from huggingface-hub>=0.17.0->peft) (3.12.4)\n",
            "Requirement already satisfied: fsspec>=2023.5.0 in /home/alexthepolygonal/.local/lib/python3.10/site-packages (from huggingface-hub>=0.17.0->peft) (2023.9.2)\n",
            "Requirement already satisfied: requests in /home/alexthepolygonal/.local/lib/python3.10/site-packages (from huggingface-hub>=0.17.0->peft) (2.31.0)\n",
            "Requirement already satisfied: typing-extensions>=3.7.4.3 in /home/alexthepolygonal/.local/lib/python3.10/site-packages (from huggingface-hub>=0.17.0->peft) (4.12.2)\n",
            "Requirement already satisfied: sympy in /usr/lib/python3/dist-packages (from torch>=1.13.0->peft) (1.9)\n",
            "Requirement already satisfied: networkx in /home/alexthepolygonal/.local/lib/python3.10/site-packages (from torch>=1.13.0->peft) (3.1)\n",
            "Requirement already satisfied: jinja2 in /home/alexthepolygonal/.local/lib/python3.10/site-packages (from torch>=1.13.0->peft) (3.1.2)\n",
            "Requirement already satisfied: nvidia-cuda-nvrtc-cu12==12.1.105 in /home/alexthepolygonal/.local/lib/python3.10/site-packages (from torch>=1.13.0->peft) (12.1.105)\n",
            "Requirement already satisfied: nvidia-cuda-runtime-cu12==12.1.105 in /home/alexthepolygonal/.local/lib/python3.10/site-packages (from torch>=1.13.0->peft) (12.1.105)\n",
            "Requirement already satisfied: nvidia-cuda-cupti-cu12==12.1.105 in /home/alexthepolygonal/.local/lib/python3.10/site-packages (from torch>=1.13.0->peft) (12.1.105)\n",
            "Requirement already satisfied: nvidia-cudnn-cu12==8.9.2.26 in /home/alexthepolygonal/.local/lib/python3.10/site-packages (from torch>=1.13.0->peft) (8.9.2.26)\n",
            "Requirement already satisfied: nvidia-cublas-cu12==12.1.3.1 in /home/alexthepolygonal/.local/lib/python3.10/site-packages (from torch>=1.13.0->peft) (12.1.3.1)\n",
            "Requirement already satisfied: nvidia-cufft-cu12==11.0.2.54 in /home/alexthepolygonal/.local/lib/python3.10/site-packages (from torch>=1.13.0->peft) (11.0.2.54)\n",
            "Requirement already satisfied: nvidia-curand-cu12==10.3.2.106 in /home/alexthepolygonal/.local/lib/python3.10/site-packages (from torch>=1.13.0->peft) (10.3.2.106)\n",
            "Requirement already satisfied: nvidia-cusolver-cu12==11.4.5.107 in /home/alexthepolygonal/.local/lib/python3.10/site-packages (from torch>=1.13.0->peft) (11.4.5.107)\n",
            "Requirement already satisfied: nvidia-cusparse-cu12==12.1.0.106 in /home/alexthepolygonal/.local/lib/python3.10/site-packages (from torch>=1.13.0->peft) (12.1.0.106)\n",
            "Requirement already satisfied: nvidia-nccl-cu12==2.18.1 in /home/alexthepolygonal/.local/lib/python3.10/site-packages (from torch>=1.13.0->peft) (2.18.1)\n",
            "Requirement already satisfied: nvidia-nvtx-cu12==12.1.105 in /home/alexthepolygonal/.local/lib/python3.10/site-packages (from torch>=1.13.0->peft) (12.1.105)\n",
            "Requirement already satisfied: triton==2.1.0 in /home/alexthepolygonal/.local/lib/python3.10/site-packages (from torch>=1.13.0->peft) (2.1.0)\n",
            "Requirement already satisfied: nvidia-nvjitlink-cu12 in /home/alexthepolygonal/.local/lib/python3.10/site-packages (from nvidia-cusolver-cu12==11.4.5.107->torch>=1.13.0->peft) (12.3.52)\n",
            "Requirement already satisfied: regex!=2019.12.17 in /home/alexthepolygonal/.local/lib/python3.10/site-packages (from transformers->peft) (2023.8.8)\n",
            "Requirement already satisfied: tokenizers<0.20,>=0.19 in /home/alexthepolygonal/.local/lib/python3.10/site-packages (from transformers->peft) (0.19.1)\n",
            "Requirement already satisfied: MarkupSafe>=2.0 in /home/alexthepolygonal/.local/lib/python3.10/site-packages (from jinja2->torch>=1.13.0->peft) (2.1.3)\n",
            "Requirement already satisfied: charset-normalizer<4,>=2 in /home/alexthepolygonal/.local/lib/python3.10/site-packages (from requests->huggingface-hub>=0.17.0->peft) (3.3.0)\n",
            "Requirement already satisfied: idna<4,>=2.5 in /home/alexthepolygonal/.local/lib/python3.10/site-packages (from requests->huggingface-hub>=0.17.0->peft) (3.4)\n",
            "Requirement already satisfied: urllib3<3,>=1.21.1 in /usr/lib/python3/dist-packages (from requests->huggingface-hub>=0.17.0->peft) (1.26.5)\n",
            "Requirement already satisfied: certifi>=2017.4.17 in /home/alexthepolygonal/.local/lib/python3.10/site-packages (from requests->huggingface-hub>=0.17.0->peft) (2023.7.22)\n",
            "\n",
            "\u001b[1m[\u001b[0m\u001b[34;49mnotice\u001b[0m\u001b[1;39;49m]\u001b[0m\u001b[39;49m A new release of pip is available: \u001b[0m\u001b[31;49m24.1.2\u001b[0m\u001b[39;49m -> \u001b[0m\u001b[32;49m24.2\u001b[0m\n",
            "\u001b[1m[\u001b[0m\u001b[34;49mnotice\u001b[0m\u001b[1;39;49m]\u001b[0m\u001b[39;49m To update, run: \u001b[0m\u001b[32;49mpython -m pip install --upgrade pip\u001b[0m\n",
            "Note: you may need to restart the kernel to use updated packages.\n"
          ]
        }
      ],
      "source": [
        "%pip install peft"
      ]
    },
    {
      "cell_type": "code",
      "execution_count": 9,
      "metadata": {
        "id": "C1iA_6OLcKNk"
      },
      "outputs": [],
      "source": [
        "import peft\n",
        "\n",
        "config = peft.LoraConfig(\n",
        "    r=8, lora_alpha=16, lora_dropout=0.2, inference_mode=False, task_type=\"CAUSAL_LM\"\n",
        ")\n",
        "\n",
        "finetune_base_model = peft.get_peft_model(base_model, config)"
      ]
    },
    {
      "cell_type": "code",
      "execution_count": 10,
      "metadata": {
        "id": "GoKIY5TTcKNl"
      },
      "outputs": [],
      "source": [
        "finetune_model = s.SmoothModelForCausalLM(\n",
        "    finetune_base_model,\n",
        "    base_model.get_input_embeddings().weight,\n",
        "    GradmodGPTNeoAttn,\n",
        "    UngradmodGPTNeoAttn\n",
        ")\n",
        "optimizer = torch.optim.Adam(finetune_model.model.parameters(), 2e-3)"
      ]
    },
    {
      "cell_type": "code",
      "execution_count": 11,
      "metadata": {
        "id": "TvUfMf0fcKNm"
      },
      "outputs": [],
      "source": [
        "male_toks = [tokenizer.encode(word, return_tensors=\"pt\").to(device) for word in [\"He\", \"he\", \"His\", \"his\", \"Boy\", \"boy\", \" He\", \" he\", \" His\", \" his\", \" Boy\", \" boy\",\"He \", \"he \", \"His \", \"his \", \"Boy \", \"boy \",]]\n",
        "male_toks = [tok for tok in male_toks if tok.shape[1] == 1]\n",
        "female_toks = [tokenizer.encode(word, return_tensors=\"pt\").to(device) for word in [\"She\", \"she\", \"Her\", \"her\", \"Girl\", \"girl\", \" She\", \" she\", \" Her\", \" her\", \" Girl\", \" girl\",\"She \", \"she \", \"Her \", \"her \", \"Girl \", \"girl \",]]\n",
        "female_toks = [tok for tok in female_toks if tok.shape[1] == 1]\n",
        "\n",
        "\n",
        "\n",
        "def remove_token_loss_smooth(toks, tokprobs, list_of_toks):\n",
        "  mask = torch.eq(toks, list_of_toks[0])\n",
        "  for tok in list_of_toks:\n",
        "    mask = torch.logical_or(mask, torch.eq(toks, tok))\n",
        "  return ((tokprobs) * mask).sum(dim = -1).sum(dim=-1).sum(dim=0)\n",
        "\n",
        "def dei_loss_smooth(toks, tokprobs):\n",
        "  return remove_token_loss_smooth(toks, tokprobs, male_toks) - remove_token_loss_smooth(toks, tokprobs, female_toks)\n",
        "\n",
        "loss_smooth = s.SmoothLoss(dei_loss_smooth)\n",
        "\n",
        "def remove_token_loss(toks, list_of_toks):\n",
        "  mask = torch.eq(toks, list_of_toks[0])\n",
        "  for tok in list_of_toks:\n",
        "    mask = torch.logical_or(mask, torch.eq(toks, tok))\n",
        "  return mask.sum(dim=-1)\n",
        "\n",
        "def loss(toks):\n",
        "  return remove_token_loss(toks, male_toks) - remove_token_loss(toks, female_toks)\n",
        "\n",
        "# def llm_ratio(toks):\n",
        "#     llm_rl = ftorch.log_softmax(base_model(toks)[0], dim=-1)[0, torch.arange(toks.shape[1]), toks[0]].sum()  # Log-likelihood of the sequence under finetuned base model\n",
        "#     llm_sft = ftorch.log_softmax(finetune_base_model(toks)[0], dim=-1)[0, torch.arange(toks.shape[1]), toks[0]].sum()  # Log-likelihood of the sequence under original base model\n",
        "#     return llm_rl - llm_sft\n",
        "\n",
        "\n",
        "# loss = SmoothLoss(rhlf_loss)\n",
        "# male_toks"
      ]
    },
    {
      "cell_type": "code",
      "execution_count": 12,
      "metadata": {
        "id": "VEbcTt5qcKNn"
      },
      "outputs": [],
      "source": [
        "cfg = s.SmoothGenerationConfig()\n",
        "cfg.eos_token_id = tokenizer.eos_token_id\n",
        "cfg.do_sample = True\n",
        "cfg.temperature = 0.4\n",
        "cfg.do_hard_rounding = True\n",
        "cfg.ban_repeat_ngrams = False\n",
        "cfg.entropy_bound = 1.\n",
        "cfg.use_kv_cache = False\n",
        "\n",
        "base_tokens = tokenizer.encode(\"One\", return_tensors=\"pt\").to(device)\n"
      ]
    },
    {
      "cell_type": "code",
      "execution_count": 13,
      "metadata": {
        "id": "1PBk1mrlcKNo"
      },
      "outputs": [],
      "source": [
        "# base_tokens = torch.cat((base_tokens, ) * 2, dim=0)"
      ]
    },
    {
      "cell_type": "code",
      "execution_count": 14,
      "metadata": {
        "id": "8k3AgCOkcKNo"
      },
      "outputs": [],
      "source": [
        "# output = model.generate(base_tokens, 100, cfg)"
      ]
    },
    {
      "cell_type": "code",
      "execution_count": 15,
      "metadata": {
        "id": "5M9hupTecKNp"
      },
      "outputs": [],
      "source": [
        "# tokenizer.decode(output.toks[0,:,0])"
      ]
    },
    {
      "cell_type": "code",
      "execution_count": null,
      "metadata": {
        "id": "w5NTo_cBcKNp"
      },
      "outputs": [],
      "source": []
    },
    {
      "cell_type": "code",
      "execution_count": 16,
      "metadata": {
        "id": "beLQW94NcKNq"
      },
      "outputs": [],
      "source": [
        "smooth_seq_sampler = s.smooth_seq_grad(\n",
        "    finetune_model,\n",
        "    loss_smooth,\n",
        "    base_tokens,\n",
        "    100, cfg, 100\n",
        ")"
      ]
    },
    {
      "cell_type": "code",
      "execution_count": 17,
      "metadata": {
        "id": "CaDC5HKFcKNq"
      },
      "outputs": [],
      "source": [
        "reinforce_sampler = s.reinforce_grad(\n",
        "    finetune_model,\n",
        "    loss,\n",
        "    base_tokens,\n",
        "    100, cfg\n",
        ")"
      ]
    },
    {
      "cell_type": "code",
      "execution_count": 18,
      "metadata": {
        "id": "hmWOOumycKNr"
      },
      "outputs": [],
      "source": [
        "import matplotlib.pyplot as plt\n",
        "\n",
        "def plotnsave_results(csims, mean, tr_cov, label):\n",
        "    plt.figure(figsize=(10, 5))\n",
        "    plt.plot([np.mean(c) for c in csims], label=label)\n",
        "    plt.legend()\n",
        "    plt.xlabel(\"log batch size\")\n",
        "    plt.ylabel(\"mean cosine similarity\")\n",
        "    # plt.xscale(\"log\")\n",
        "    plt.tight_layout()\n",
        "    plt.show()\n",
        "\n",
        "    torch.save((csims, mean, tr_cov), f\"{label}.saved\")"
      ]
    },
    {
      "cell_type": "code",
      "execution_count": 19,
      "metadata": {
        "colab": {
          "base_uri": "https://localhost:8080/",
          "height": 487
        },
        "id": "L7E41dpgcKNr",
        "outputId": "f934d380-ec80-4aa2-fe06-a7cd5e184411"
      },
      "outputs": [],
      "source": [
        "# test_csims, test_mean, test_tr_cov = s.measure_avg_cosine_sim(s.test_grad(10., (30,)), 4)\n",
        "\n",
        "# plotnsave_results(test_csims, test_mean, test_tr_cov, \"Cosine similarities for the test gradient estimator\")"
      ]
    },
    {
      "cell_type": "code",
      "execution_count": null,
      "metadata": {
        "colab": {
          "base_uri": "https://localhost:8080/",
          "height": 487
        },
        "id": "9RIbZW05cKNr",
        "outputId": "d92b9d08-e869-4805-c6e2-ce7e08f7f78d"
      },
      "outputs": [],
      "source": [
        "reinfoce_csims, reinforce_mean, reinforce_tr_cov = s.measure_avg_cosine_sim(reinforce_sampler, 10)\n",
        "\n",
        "plotnsave_results(reinfoce_csims, reinforce_mean, reinforce_tr_cov, \"Cosine similarities for the REINFORCE gradient estimator\")"
      ]
    },
    {
      "cell_type": "code",
      "execution_count": null,
      "metadata": {
        "colab": {
          "base_uri": "https://localhost:8080/",
          "height": 487
        },
        "id": "3hLdAVticKNs",
        "outputId": "41377aa1-f1c4-4f46-b679-f4e4b3682826"
      },
      "outputs": [],
      "source": [
        "smooth_csims, smooth_mean, smooth_tr_cov = s.measure_avg_cosine_sim(smooth_seq_sampler, 10)\n",
        "\n",
        "plotnsave_results(smooth_csims, smooth_mean, smooth_tr_cov, \"Cosine similarities for the smooth hard gradient estimator\")"
      ]
    },
    {
      "cell_type": "code",
      "execution_count": null,
      "metadata": {
        "colab": {
          "base_uri": "https://localhost:8080/",
          "height": 452
        },
        "id": "jwwv5pDhcKNs",
        "outputId": "006eea1a-f119-4da1-fa00-f6ec04c5c329"
      },
      "outputs": [
        {
          "data": {
            "image/png": "[encoded data removed]",
            "text/plain": [
              "<Figure size 1000x500 with 1 Axes>"
            ]
          },
          "metadata": {},
          "output_type": "display_data"
        }
      ],
      "source": [
        "plt.figure(figsize=(10, 5))\n",
        "plt.plot([np.mean(c) for c in reinfoce_csims], label=\"ʀᴇɪɴꜰᴏʀᴄᴇ\")\n",
        "plt.plot([np.mean(c) for c in smooth_csims], label=\"smooth\")\n",
        "plt.legend()\n",
        "plt.xlabel(\"log batch size\")\n",
        "plt.ylabel(\"mean cosine similarity\")\n",
        "# plt.xscale(\"log\")\n",
        "plt.tight_layout()\n",
        "plt.show()"
      ]
    },
    {
      "cell_type": "code",
      "execution_count": null,
      "metadata": {
        "colab": {
          "base_uri": "https://localhost:8080/"
        },
        "id": "Rdzb6qO5cKNt",
        "outputId": "006fd516-bab6-4455-b7cf-4101f748a582"
      },
      "outputs": [
        {
          "data": {
            "text/plain": [
              "tensor(0.111047, device='cuda:0')"
            ]
          },
          "execution_count": 23,
          "metadata": {},
          "output_type": "execute_result"
        }
      ],
      "source": [
        "torch.cosine_similarity(reinforce_mean, smooth_mean, dim=0)"
      ]
    }
  ],
  "metadata": {
    "accelerator": "GPU",
    "colab": {
      "gpuType": "T4",
      "provenance": []
    },
    "kernelspec": {
      "display_name": "Python 3 (ipykernel)",
      "language": "python",
      "name": "python3"
    }
  },
  "nbformat": 4,
  "nbformat_minor": 0
}
