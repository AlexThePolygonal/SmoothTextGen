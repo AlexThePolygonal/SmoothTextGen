{
 "cells": [
  {
   "cell_type": "code",
   "execution_count": 1,
   "metadata": {},
   "outputs": [
    {
     "data": {
      "text/plain": [
       "device(type='cpu')"
      ]
     },
     "execution_count": 1,
     "metadata": {},
     "output_type": "execute_result"
    }
   ],
   "source": [
    "import torch\n",
    "import torch.nn as nn\n",
    "import torch.nn.functional as F\n",
    "device = torch.device('cuda' if torch.cuda.is_available() else 'cpu')\n",
    "device"
   ]
  },
  {
   "cell_type": "code",
   "execution_count": 2,
   "metadata": {},
   "outputs": [],
   "source": [
    "from smoothllm import *\n",
    "from gptneo_decompose import GradmodGPTNeoAttn, UngradmodGPTNeoAttn"
   ]
  },
  {
   "cell_type": "code",
   "execution_count": 3,
   "metadata": {},
   "outputs": [],
   "source": [
    "set_determininsm(42)"
   ]
  },
  {
   "cell_type": "code",
   "execution_count": 4,
   "metadata": {},
   "outputs": [],
   "source": [
    "from transformers import AutoModelForCausalLM, AutoTokenizer, GenerationConfig"
   ]
  },
  {
   "cell_type": "code",
   "execution_count": 14,
   "metadata": {},
   "outputs": [],
   "source": [
    "base_model = AutoModelForCausalLM.from_pretrained('../TinyStories-33M').to(device) # roneneldan\n",
    "tokenizer = AutoTokenizer.from_pretrained(\"EleutherAI/gpt-neo-125M\")"
   ]
  },
  {
   "cell_type": "code",
   "execution_count": null,
   "metadata": {},
   "outputs": [],
   "source": [
    "model = SmoothModelForCausalLM(\n",
    "    base_model, \n",
    "    base_model.get_input_embeddings().weight,\n",
    "    GradmodGPTNeoAttn,\n",
    "    UngradmodGPTNeoAttn\n",
    ")\n",
    "\n",
    "for param in model.parameters():\n",
    "    param.requires_grad_(False)"
   ]
  },
  {
   "cell_type": "code",
   "execution_count": null,
   "metadata": {},
   "outputs": [],
   "source": [
    "torch.set_printoptions(precision=6)"
   ]
  },
  {
   "cell_type": "code",
   "execution_count": null,
   "metadata": {},
   "outputs": [],
   "source": [
    "import peft\n",
    "\n",
    "config = peft.LoraConfig(\n",
    "    r=8, lora_alpha=16, lora_dropout=0.2, inference_mode=False, task_type=\"CAUSAL_LM\"\n",
    ")\n",
    "\n",
    "finetune_base_model = peft.get_peft_model(base_model, config)"
   ]
  },
  {
   "cell_type": "code",
   "execution_count": null,
   "metadata": {},
   "outputs": [],
   "source": [
    "finetune_model = SmoothModelForCausalLM(\n",
    "    finetune_base_model, \n",
    "    base_model.get_input_embeddings().weight,\n",
    "    GradmodGPTNeoAttn,\n",
    "    UngradmodGPTNeoAttn\n",
    ")\n",
    "optimizer = torch.optim.Adam(finetune_model.model.parameters(), 2e-3)"
   ]
  },
  {
   "cell_type": "code",
   "execution_count": null,
   "metadata": {},
   "outputs": [],
   "source": [
    "male_toks = [tokenizer.encode(word, return_tensors=\"pt\").to(device) for word in [\"He\", \"he\", \"His\", \"his\", \"Boy\", \"boy\", \" He\", \" he\", \" His\", \" his\", \" Boy\", \" boy\",\"He \", \"he \", \"His \", \"his \", \"Boy \", \"boy \",]]\n",
    "male_toks = [tok for tok in male_toks if tok.shape[1] == 1]\n",
    "female_toks = [tokenizer.encode(word, return_tensors=\"pt\").to(device) for word in [\"She\", \"she\", \"Her\", \"her\", \"Girl\", \"girl\", \" She\", \" she\", \" Her\", \" her\", \" Girl\", \" girl\",\"She \", \"she \", \"Her \", \"her \", \"Girl \", \"girl \",]]\n",
    "female_toks = [tok for tok in female_toks if tok.shape[1] == 1]\n",
    "\n",
    "\n",
    "\n",
    "def remove_token_loss_smooth(toks, tokprobs, list_of_toks):\n",
    "  mask = torch.eq(toks, list_of_toks[0])\n",
    "  for tok in list_of_toks:\n",
    "    mask = torch.logical_or(mask, torch.eq(toks, tok))\n",
    "  return ((tokprobs) * mask).sum(dim = -1).sum(dim=-1).sum(dim=0)\n",
    "\n",
    "def dei_loss_smooth(toks, tokprobs):\n",
    "  return remove_token_loss_smooth(toks, tokprobs, male_toks) - remove_token_loss_smooth(toks, tokprobs, female_toks)\n",
    "\n",
    "loss_smooth = SmoothLoss(dei_loss_smooth)\n",
    "\n",
    "def remove_token_loss(toks, list_of_toks):\n",
    "  mask = torch.eq(toks, list_of_toks[0])\n",
    "  for tok in list_of_toks:\n",
    "    mask = torch.logical_or(mask, torch.eq(toks, tok))\n",
    "  return mask.sum(dim=-1)\n",
    "\n",
    "def loss(toks):\n",
    "  return remove_token_loss(toks, male_toks) - remove_token_loss(toks, female_toks)\n",
    "\n",
    "# def llm_ratio(toks):\n",
    "#     llm_rl = ftorch.log_softmax(base_model(toks)[0], dim=-1)[0, torch.arange(toks.shape[1]), toks[0]].sum()  # Log-likelihood of the sequence under finetuned base model\n",
    "#     llm_sft = ftorch.log_softmax(finetune_base_model(toks)[0], dim=-1)[0, torch.arange(toks.shape[1]), toks[0]].sum()  # Log-likelihood of the sequence under original base model\n",
    "#     return llm_rl - llm_sft\n",
    "\n",
    "\n",
    "# loss = SmoothLoss(rhlf_loss)\n",
    "# male_toks"
   ]
  },
  {
   "cell_type": "code",
   "execution_count": null,
   "metadata": {},
   "outputs": [],
   "source": [
    "cfg = SmoothGenerationConfig()\n",
    "cfg.eos_token_id = tokenizer.eos_token_id\n",
    "cfg.do_sample = True\n",
    "cfg.temperature = 0.4\n",
    "cfg.do_hard_rounding = True\n",
    "cfg.ban_repeat_ngrams = False\n",
    "cfg.entropy_bound = 1.\n",
    "cfg.use_kv_cache = False\n",
    "cfg.do_clip_norms = True\n",
    "cfg.clip_norm = 1\n",
    "\n",
    "base_tokens = tokenizer.encode(\"One\", return_tensors=\"pt\").to(device)\n"
   ]
  },
  {
   "cell_type": "code",
   "execution_count": null,
   "metadata": {},
   "outputs": [],
   "source": [
    "# base_tokens = torch.cat((base_tokens, ) * 2, dim=0)"
   ]
  },
  {
   "cell_type": "code",
   "execution_count": null,
   "metadata": {},
   "outputs": [],
   "source": [
    "# output = model.ordinary_generate(base_tokens, 100, cfg)"
   ]
  },
  {
   "cell_type": "code",
   "execution_count": null,
   "metadata": {},
   "outputs": [
    {
     "data": {
      "text/plain": [
       "torch.Size([2, 1])"
      ]
     },
     "execution_count": 14,
     "metadata": {},
     "output_type": "execute_result"
    }
   ],
   "source": [
    "base_tokens.shape"
   ]
  },
  {
   "cell_type": "code",
   "execution_count": null,
   "metadata": {},
   "outputs": [],
   "source": [
    "# output[0]"
   ]
  },
  {
   "cell_type": "code",
   "execution_count": null,
   "metadata": {},
   "outputs": [],
   "source": [
    "smooth_seq_sampler = smooth_seq_grad(\n",
    "    finetune_model, \n",
    "    loss_smooth, \n",
    "    base_tokens, \n",
    "    100, cfg\n",
    ")"
   ]
  },
  {
   "cell_type": "code",
   "execution_count": null,
   "metadata": {},
   "outputs": [],
   "source": [
    "reinforce_sampler = reinforce_grad(\n",
    "    finetune_model, \n",
    "    loss, \n",
    "    base_tokens, \n",
    "    100, \n",
    "    cfg\n",
    ")"
   ]
  },
  {
   "cell_type": "code",
   "execution_count": 17,
   "metadata": {},
   "outputs": [],
   "source": [
    "import matplotlib.pyplot as plt\n",
    "\n",
    "def plotnsave_results(csims, mean, label):\n",
    "    plt.figure(figsize=(10, 5))\n",
    "    plt.plot([np.mean(c) for c in csims], label=\"label\")\n",
    "    plt.legend()\n",
    "    plt.xlabel(\"log batch size\")\n",
    "    plt.ylabel(\"mean cosine similarity\")\n",
    "    # plt.xscale(\"log\")\n",
    "    plt.tight_layout()\n",
    "    plt.show()\n",
    "\n",
    "    torch.save((csims, mean), f\"{label}.saved\")"
   ]
  },
  {
   "cell_type": "code",
   "execution_count": 18,
   "metadata": {},
   "outputs": [
    {
     "name": "stderr",
     "output_type": "stream",
     "text": [
      "100%|████████████████████████████████████████| 12/12 [00:00<00:00, 22651.51it/s]\n",
      "100%|█████████████████████████████████████| 4096/4096 [00:00<00:00, 9828.62it/s]\n"
     ]
    },
    {
     "data": {
      "image/png": "[encoded data removed]",
      "text/plain": [
       "<Figure size 1000x500 with 1 Axes>"
      ]
     },
     "metadata": {},
     "output_type": "display_data"
    }
   ],
   "source": [
    "test_csims, test_mean = measure_avg_cosine_sim(test_grad(50., (30,)), 12)\n",
    "\n",
    "plotnsave_results(test_csims, test_mean, \"Cosine similarities for the test gradient estimator\")"
   ]
  }
 ],
 "metadata": {
  "kernelspec": {
   "display_name": "Python 3 (ipykernel)",
   "language": "python",
   "name": "python3"
  },
  "language_info": {
   "codemirror_mode": {
    "name": "ipython",
    "version": 3
   },
   "file_extension": ".py",
   "mimetype": "text/x-python",
   "name": "python",
   "nbconvert_exporter": "python",
   "pygments_lexer": "ipython3",
   "version": "3.10.12"
  }
 },
 "nbformat": 4,
 "nbformat_minor": 2
}
